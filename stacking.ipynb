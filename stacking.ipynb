{
 "cells": [
  {
   "cell_type": "code",
   "execution_count": 15,
   "metadata": {},
   "outputs": [],
   "source": [
    "# coding: UTF-8\n",
    "\n",
    "from copy import deepcopy\n",
    "from collections import defaultdict\n",
    "\n",
    "import numpy as np\n",
    "from sklearn.model_selection import StratifiedKFold\n",
    "\n",
    "class StackingClassifier:\n",
    "    def __init__(self, estimators, marge_estimator):\n",
    "        self.original_clfs = dict(estimators)\n",
    "        self.m_clf = marge_estimator\n",
    "\n",
    "        self.clfs_dict = defaultdict(list)\n",
    "        self.clfs_index = sorted(self.original_clfs.keys())\n",
    "\n",
    "    def fit(self, X, y):\n",
    "        skf = StratifiedKFold(n_splits=15)\n",
    "        index_list = list(skf.split(X, y))\n",
    "\n",
    "        merge_feature_list = []\n",
    "        for clf_name in self.clfs_index:\n",
    "            clf_origin = self.original_clfs[clf_name]\n",
    "            preds_tmp_list = []\n",
    "            for train_index, test_index in index_list:\n",
    "                clf_copy = deepcopy(clf_origin)\n",
    "                clf_copy.fit(X[train_index], y[train_index])\n",
    "                preds_tmp_list.append(\n",
    "                    clf_copy.predict_proba(X[test_index]))\n",
    "                self.clfs_dict[clf_name].append(clf_copy)\n",
    "            merge_feature_list.append(np.vstack(preds_tmp_list))\n",
    "        \n",
    "        X_merged = np.hstack(merge_feature_list)\n",
    "        y_merged = np.hstack([y[test_index] \n",
    "                              for _, test_index in index_list])\n",
    "\n",
    "        self.m_clf.fit(X_merged, y_merged)\n",
    "        \n",
    "    def predict(self, X):\n",
    "        merge_feature_list = []\n",
    "        for clf_name in self.clfs_index:\n",
    "            tmp_proba_list = []\n",
    "            for clf in self.clfs_dict[clf_name]:\n",
    "                tmp_proba_list.append(clf.predict_proba(X))\n",
    "            merge_feature_list.append(\n",
    "                np.mean(tmp_proba_list, axis=0))\n",
    "        X_merged = np.hstack(merge_feature_list)\n",
    "\n",
    "        return self.m_clf.predict(X_merged)"
   ]
  },
  {
   "cell_type": "code",
   "execution_count": 1,
   "metadata": {},
   "outputs": [],
   "source": [
    "# coding: UTF-8\n",
    "\n",
    "import numpy as np\n",
    "\n",
    "from sklearn.svm import SVC\n",
    "from sklearn.linear_model import LogisticRegression\n",
    "from sklearn.neighbors import KNeighborsClassifier as KNN\n",
    "from sklearn.naive_bayes import GaussianNB as GNB\n",
    "from sklearn.ensemble import RandomForestClassifier as RFC\n",
    "from sklearn.ensemble import BaggingClassifier\n",
    "from sklearn.neural_network import MLPClassifier\n",
    "from sklearn.ensemble import VotingClassifier\n",
    "\n",
    "from sklearn.datasets import load_digits\n",
    "from sklearn.model_selection import train_test_split\n",
    "from sklearn.metrics import precision_recall_fscore_support\n",
    "\n",
    "digits = load_digits()\n",
    "noised_data = digits.data + np.random.random(digits.data.shape)*15\n",
    "\n",
    "X_train, X_test, y_train, y_test = train_test_split(noised_data, digits.target, test_size=0.8)\n",
    "\n",
    "svm =SVC(C=5, gamma=0.001, probability=True)\n",
    "lr = LogisticRegression()\n",
    "knn = KNN(n_jobs=-1)\n",
    "nb = GNB()\n",
    "rfc = RFC(n_estimators=500, n_jobs=-1)\n",
    "bgg = BaggingClassifier(n_estimators=300, n_jobs=-1)\n",
    "mlp = MLPClassifier(hidden_layer_sizes=(40, 20), max_iter=1000)\n",
    "\n"
   ]
  },
  {
   "cell_type": "code",
   "execution_count": 21,
   "metadata": {},
   "outputs": [],
   "source": [
    "lr1 = LogisticRegression()\n",
    "lr2 = LogisticRegression()\n",
    "lr3 = LogisticRegression()\n",
    "lr4 = LogisticRegression()"
   ]
  },
  {
   "cell_type": "code",
   "execution_count": 22,
   "metadata": {},
   "outputs": [],
   "source": [
    "estimators = list(zip([\"lr_1\", \"lr_2\", \"lr_3\", \"lr_4\"],\n",
    "                      [lr1, lr2, lr3, lr4]))"
   ]
  },
  {
   "cell_type": "code",
   "execution_count": 24,
   "metadata": {},
   "outputs": [
    {
     "name": "stdout",
     "output_type": "stream",
     "text": [
      "stacking\n",
      "p:0.7813 r:0.7816 f1:0.7785\n"
     ]
    }
   ],
   "source": [
    "stcl = StackingClassifier(estimators, LogisticRegression())\n",
    "stcl.fit(X_train, y_train)\n",
    "preds = stcl.predict(X_test)\n",
    "print(\"stacking\")\n",
    "print(\"p:{0:.4f} r:{1:.4f} f1:{2:.4f}\".format(\n",
    "    *precision_recall_fscore_support(y_test, preds, average=\"macro\")))"
   ]
  },
  {
   "cell_type": "code",
   "execution_count": null,
   "metadata": {},
   "outputs": [],
   "source": []
  }
 ],
 "metadata": {
  "kernelspec": {
   "display_name": "Python 3",
   "language": "python",
   "name": "python3"
  },
  "language_info": {
   "codemirror_mode": {
    "name": "ipython",
    "version": 3
   },
   "file_extension": ".py",
   "mimetype": "text/x-python",
   "name": "python",
   "nbconvert_exporter": "python",
   "pygments_lexer": "ipython3",
   "version": "3.6.1"
  }
 },
 "nbformat": 4,
 "nbformat_minor": 2
}
